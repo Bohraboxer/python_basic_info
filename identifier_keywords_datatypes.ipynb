{
 "cells": [
  {
   "cell_type": "code",
   "execution_count": 1,
   "metadata": {},
   "outputs": [],
   "source": [
    "a = 10 "
   ]
  },
  {
   "cell_type": "code",
   "execution_count": 2,
   "metadata": {},
   "outputs": [],
   "source": [
    "class test:\n",
    "    None"
   ]
  },
  {
   "cell_type": "code",
   "execution_count": null,
   "metadata": {},
   "outputs": [],
   "source": [
    "abc = 10 # valid\n",
    "123abc = 10 # invlaid"
   ]
  },
  {
   "cell_type": "code",
   "execution_count": null,
   "metadata": {},
   "outputs": [],
   "source": [
    "x # variable\n",
    "_x # protected variable\n",
    "__x # private variable\n",
    "__x__ # magic variable"
   ]
  },
  {
   "cell_type": "code",
   "execution_count": null,
   "metadata": {},
   "outputs": [],
   "source": []
  },
  {
   "cell_type": "markdown",
   "metadata": {},
   "source": [
    "# keywords"
   ]
  },
  {
   "cell_type": "code",
   "execution_count": 5,
   "metadata": {},
   "outputs": [],
   "source": [
    "# words with some functionality are called keywords\n",
    "# if, else, elif, etccc\n",
    "# there are 33 reserved words in python\n",
    "# all are alphabets \n",
    "# Except True, False and None all other keywords are all small case\n",
    "# no switch and do while is not available"
   ]
  },
  {
   "cell_type": "code",
   "execution_count": 6,
   "metadata": {},
   "outputs": [
    {
     "data": {
      "text/plain": [
       "['False',\n",
       " 'None',\n",
       " 'True',\n",
       " 'and',\n",
       " 'as',\n",
       " 'assert',\n",
       " 'async',\n",
       " 'await',\n",
       " 'break',\n",
       " 'class',\n",
       " 'continue',\n",
       " 'def',\n",
       " 'del',\n",
       " 'elif',\n",
       " 'else',\n",
       " 'except',\n",
       " 'finally',\n",
       " 'for',\n",
       " 'from',\n",
       " 'global',\n",
       " 'if',\n",
       " 'import',\n",
       " 'in',\n",
       " 'is',\n",
       " 'lambda',\n",
       " 'nonlocal',\n",
       " 'not',\n",
       " 'or',\n",
       " 'pass',\n",
       " 'raise',\n",
       " 'return',\n",
       " 'try',\n",
       " 'while',\n",
       " 'with',\n",
       " 'yield']"
      ]
     },
     "execution_count": 6,
     "metadata": {},
     "output_type": "execute_result"
    }
   ],
   "source": [
    "import keyword\n",
    "keyword.kwlist"
   ]
  },
  {
   "cell_type": "code",
   "execution_count": null,
   "metadata": {},
   "outputs": [],
   "source": []
  },
  {
   "cell_type": "code",
   "execution_count": 7,
   "metadata": {},
   "outputs": [],
   "source": [
    "# datatypes"
   ]
  },
  {
   "cell_type": "code",
   "execution_count": 9,
   "metadata": {},
   "outputs": [
    {
     "data": {
      "text/plain": [
       "int"
      ]
     },
     "execution_count": 9,
     "metadata": {},
     "output_type": "execute_result"
    }
   ],
   "source": [
    "# no declaring the data type also called dynamically typed programming language\n",
    "a = 10\n",
    "type(a)"
   ]
  },
  {
   "cell_type": "code",
   "execution_count": 10,
   "metadata": {},
   "outputs": [
    {
     "data": {
      "text/plain": [
       "bool"
      ]
     },
     "execution_count": 10,
     "metadata": {},
     "output_type": "execute_result"
    }
   ],
   "source": [
    "b = True\n",
    "type(b)"
   ]
  },
  {
   "cell_type": "code",
   "execution_count": 11,
   "metadata": {},
   "outputs": [],
   "source": [
    "# inbuilt datatype int, float, Boolean, complex, string, list, tuple, set,\n",
    "# frozenset, dict, bytes, bytearray, range, None"
   ]
  },
  {
   "cell_type": "code",
   "execution_count": 12,
   "metadata": {},
   "outputs": [],
   "source": [
    "# everything in python is an object"
   ]
  },
  {
   "cell_type": "code",
   "execution_count": 13,
   "metadata": {},
   "outputs": [
    {
     "data": {
      "text/plain": [
       "4376094128"
      ]
     },
     "execution_count": 13,
     "metadata": {},
     "output_type": "execute_result"
    }
   ],
   "source": [
    "a = 10 \n",
    "# to know the address of a\n",
    "id(a)"
   ]
  },
  {
   "cell_type": "markdown",
   "metadata": {},
   "source": [
    "## int datatype "
   ]
  },
  {
   "cell_type": "code",
   "execution_count": 14,
   "metadata": {},
   "outputs": [
    {
     "data": {
      "text/plain": [
       "int"
      ]
     },
     "execution_count": 14,
     "metadata": {},
     "output_type": "execute_result"
    }
   ],
   "source": [
    "# numbers without any decimal point\n",
    "a = 10\n",
    "type(a)"
   ]
  },
  {
   "cell_type": "code",
   "execution_count": 21,
   "metadata": {},
   "outputs": [
    {
     "name": "stdout",
     "output_type": "stream",
     "text": [
      "Decimla form\n",
      "10\n",
      "Binary form\n",
      "<class 'int'>\n",
      "15\n",
      "Octal form\n",
      "<class 'int'>\n",
      "83\n",
      "Hexa form\n",
      "<class 'int'>\n",
      "16\n"
     ]
    }
   ],
   "source": [
    "# different ways to reperesent into4 ways\n",
    "# decimal form (0-9)\n",
    "a = 10\n",
    "print(\"Decimla form\")\n",
    "print(a)\n",
    "\n",
    "\n",
    "# binary form (0,1)\n",
    "a = 0B1111\n",
    "print(\"Binary form\")\n",
    "print(type(a))\n",
    "print(a)\n",
    "\n",
    "# Octal form (0-7)\n",
    "a = 0O123\n",
    "print('Octal form')\n",
    "print(type(a))\n",
    "print(a)\n",
    "\n",
    "# Hexa form (0-9, a=10,b=11,c=12,d=13,e=14,f=15)\n",
    "a = 0x10\n",
    "print('Hexa form')\n",
    "print(type(a))\n",
    "print(a)"
   ]
  },
  {
   "cell_type": "code",
   "execution_count": 27,
   "metadata": {},
   "outputs": [
    {
     "data": {
      "text/plain": [
       "'0b1010011'"
      ]
     },
     "execution_count": 27,
     "metadata": {},
     "output_type": "execute_result"
    }
   ],
   "source": [
    "# converting number form one base to binary\n",
    "\n",
    "# converting data from decimal form to binary form\n",
    "bin(15)\n",
    "\n",
    "# converting data from Octal number to binary form\n",
    "bin(0O123)"
   ]
  },
  {
   "cell_type": "code",
   "execution_count": 33,
   "metadata": {},
   "outputs": [
    {
     "name": "stdout",
     "output_type": "stream",
     "text": [
      "0o144\n",
      "0o75\n",
      "0o175316\n"
     ]
    }
   ],
   "source": [
    "# converting data from one base to octal form\n",
    "\n",
    "# converting data from decimal form to octal\n",
    "print(oct(100))\n",
    "\n",
    "# converting data from binary form to octal\n",
    "print(oct(0b111101))\n",
    "\n",
    "# converting data form hexadeciaml form to octal\n",
    "print(oct(0XFACE))"
   ]
  },
  {
   "cell_type": "code",
   "execution_count": 34,
   "metadata": {},
   "outputs": [
    {
     "name": "stdout",
     "output_type": "stream",
     "text": [
      "0x3e8\n",
      "0x55\n",
      "0xa72e\n"
     ]
    }
   ],
   "source": [
    "# converting data from one base to Hexa decimal form\n",
    "\n",
    "# converting data from decimal form to hexa deciaml form\n",
    "print(hex(1000))\n",
    "\n",
    "# converting data from binary form to hexa decimal form\n",
    "print(hex(0b1010101))\n",
    "\n",
    "# converting data form octadecimal form to hexa decimal form\n",
    "print(hex(0o123456))"
   ]
  },
  {
   "cell_type": "code",
   "execution_count": null,
   "metadata": {},
   "outputs": [],
   "source": []
  },
  {
   "cell_type": "markdown",
   "metadata": {},
   "source": [
    "## float "
   ]
  },
  {
   "cell_type": "code",
   "execution_count": 35,
   "metadata": {},
   "outputs": [
    {
     "data": {
      "text/plain": [
       "float"
      ]
     },
     "execution_count": 35,
     "metadata": {},
     "output_type": "execute_result"
    }
   ],
   "source": [
    "a = 123.45\n",
    "type(a)"
   ]
  },
  {
   "cell_type": "code",
   "execution_count": 37,
   "metadata": {},
   "outputs": [
    {
     "name": "stdout",
     "output_type": "stream",
     "text": [
      "123341.23123123123\n"
     ]
    }
   ],
   "source": [
    "# the number after e is the exponent of the number \n",
    "f = 123.3412312312312312312E3\n",
    "print(f)"
   ]
  },
  {
   "cell_type": "code",
   "execution_count": 38,
   "metadata": {},
   "outputs": [
    {
     "name": "stdout",
     "output_type": "stream",
     "text": [
      "0.012334123123123123\n"
     ]
    }
   ],
   "source": [
    "f = 123.3412312312312312312E-4\n",
    "print(f)"
   ]
  },
  {
   "cell_type": "code",
   "execution_count": null,
   "metadata": {},
   "outputs": [],
   "source": []
  },
  {
   "cell_type": "markdown",
   "metadata": {},
   "source": [
    "## Complex data type"
   ]
  },
  {
   "cell_type": "code",
   "execution_count": 41,
   "metadata": {},
   "outputs": [
    {
     "name": "stdout",
     "output_type": "stream",
     "text": [
      "<class 'complex'>\n",
      "real part of x 10.0\n",
      "imaginary part of x 20.0\n"
     ]
    }
   ],
   "source": [
    "# to calculate scientific calculations\n",
    "# a + bj          a = real part and b = imaginary part and. j^2 = -1 or j = √-1 \n",
    "\n",
    "x = 10+20j\n",
    "print(type(x))\n",
    "print(\"real part of x\", x.real)\n",
    "print(\"imaginary part of x\", x.imag)\n",
    "\n",
    "\n",
    "# real and imaginary part can be in decimal form also but only real value can be in binary, decimal, octa, hex"
   ]
  },
  {
   "cell_type": "code",
   "execution_count": null,
   "metadata": {},
   "outputs": [],
   "source": []
  },
  {
   "cell_type": "markdown",
   "metadata": {},
   "source": [
    "# Boolean Datatype"
   ]
  },
  {
   "cell_type": "code",
   "execution_count": 42,
   "metadata": {},
   "outputs": [
    {
     "name": "stdout",
     "output_type": "stream",
     "text": [
      "True\n"
     ]
    }
   ],
   "source": [
    "a = True\n",
    "print(a)"
   ]
  },
  {
   "cell_type": "code",
   "execution_count": 43,
   "metadata": {},
   "outputs": [
    {
     "name": "stdout",
     "output_type": "stream",
     "text": [
      "True\n"
     ]
    }
   ],
   "source": [
    "a = 10\n",
    "b = 20\n",
    "print(a<b)"
   ]
  },
  {
   "cell_type": "code",
   "execution_count": 45,
   "metadata": {},
   "outputs": [
    {
     "name": "stdout",
     "output_type": "stream",
     "text": [
      "0\n",
      "1\n",
      "-1\n"
     ]
    }
   ],
   "source": [
    "# True = 1 and False = 0\n",
    "print(True - True)\n",
    "print(True - False)\n",
    "print(False - True)"
   ]
  },
  {
   "cell_type": "code",
   "execution_count": null,
   "metadata": {},
   "outputs": [],
   "source": []
  },
  {
   "cell_type": "markdown",
   "metadata": {},
   "source": [
    "# str (string data type)"
   ]
  },
  {
   "cell_type": "code",
   "execution_count": 47,
   "metadata": {},
   "outputs": [
    {
     "name": "stdout",
     "output_type": "stream",
     "text": [
      "rohit\n",
      "rohit\n",
      "rohit\n",
      "<class 'str'>\n",
      "<class 'str'>\n",
      "<class 'str'>\n"
     ]
    }
   ],
   "source": [
    "# sequence of characters is called string\n",
    "a = 'rohit'\n",
    "b = 'rohit'\n",
    "c = '''rohit'''\n",
    "print(a)\n",
    "print(b)\n",
    "print(c)\n",
    "print(type(a))\n",
    "print(type(b))\n",
    "print(type(c))"
   ]
  },
  {
   "cell_type": "code",
   "execution_count": 51,
   "metadata": {},
   "outputs": [
    {
     "name": "stdout",
     "output_type": "stream",
     "text": [
      "rohit\n",
      "bohra\n"
     ]
    }
   ],
   "source": [
    "# to print multiple lines of data we use triplw quotes\n",
    "a = '''rohit\n",
    "bohra'''\n",
    "\n",
    "print(a)"
   ]
  },
  {
   "cell_type": "code",
   "execution_count": 53,
   "metadata": {},
   "outputs": [
    {
     "name": "stdout",
     "output_type": "stream",
     "text": [
      "Rohit is \"great\"\n"
     ]
    }
   ],
   "source": [
    "a = 'Rohit is \"great\"'\n",
    "print(a)"
   ]
  },
  {
   "cell_type": "code",
   "execution_count": 56,
   "metadata": {},
   "outputs": [
    {
     "name": "stdout",
     "output_type": "stream",
     "text": [
      "'Rohit' is the \"greatest\" \n"
     ]
    }
   ],
   "source": [
    "a = \"\"\"'Rohit' is the \"greatest\" \"\"\"\n",
    "print(a)"
   ]
  },
  {
   "cell_type": "markdown",
   "metadata": {},
   "source": [
    "### positive and negative index "
   ]
  },
  {
   "cell_type": "code",
   "execution_count": 60,
   "metadata": {},
   "outputs": [
    {
     "name": "stdout",
     "output_type": "stream",
     "text": [
      "ohit Bohr\n"
     ]
    }
   ],
   "source": [
    "a = 'Rohit Bohra'\n",
    "# 1 to 9 charcaters will be sliced\n",
    "print(a[1:10])"
   ]
  },
  {
   "cell_type": "code",
   "execution_count": 61,
   "metadata": {},
   "outputs": [
    {
     "name": "stdout",
     "output_type": "stream",
     "text": [
      "a\n"
     ]
    }
   ],
   "source": [
    "print(a[-1])"
   ]
  },
  {
   "cell_type": "code",
   "execution_count": 66,
   "metadata": {},
   "outputs": [
    {
     "name": "stdout",
     "output_type": "stream",
     "text": [
      "R\n",
      "ohit Bohra\n"
     ]
    }
   ],
   "source": [
    "print(a[:1])\n",
    "print(a[1:])"
   ]
  },
  {
   "cell_type": "code",
   "execution_count": 72,
   "metadata": {},
   "outputs": [
    {
     "name": "stdout",
     "output_type": "stream",
     "text": [
      "Rohit\n",
      "Rohit\n"
     ]
    }
   ],
   "source": [
    "a = \"rohit\"\n",
    "b = \"R\" + a[1:]\n",
    "print(b)\n",
    "c = a[0].upper() + a[1:]\n",
    "print(c)"
   ]
  },
  {
   "cell_type": "code",
   "execution_count": null,
   "metadata": {},
   "outputs": [],
   "source": []
  },
  {
   "cell_type": "markdown",
   "metadata": {},
   "source": [
    "# Type casting"
   ]
  },
  {
   "cell_type": "code",
   "execution_count": 78,
   "metadata": {},
   "outputs": [
    {
     "name": "stdout",
     "output_type": "stream",
     "text": [
      "10.235\n",
      "10\n",
      "(10+20j)\n",
      "True\n",
      "1\n",
      "False\n",
      "0\n",
      "10\n",
      "10\n"
     ]
    }
   ],
   "source": [
    "# process of converting data from one type to another is called typecasting or coherence\n",
    "# different types of type casting are int(), float(), complex(), bool(), str()\n",
    "\n",
    "\n",
    "# from other types to int()\n",
    "\n",
    "# float to int\n",
    "a = 10.235\n",
    "print(a)\n",
    "print(int(a))\n",
    "\n",
    "# complex to int\n",
    "a = 10+20j\n",
    "print(a)\n",
    "# print(int(a)) # TypeError: can't convert complex to int\n",
    "\n",
    "# bool to int\n",
    "a = True\n",
    "print(a)\n",
    "print(int(a))\n",
    "a = False\n",
    "print(a)\n",
    "print(int(a))\n",
    "\n",
    "# string to int\n",
    "a = '10'\n",
    "print(a)\n",
    "print(int(a))"
   ]
  },
  {
   "cell_type": "code",
   "execution_count": 82,
   "metadata": {},
   "outputs": [
    {
     "name": "stdout",
     "output_type": "stream",
     "text": [
      "10.0\n",
      "1.0\n",
      "123.0\n",
      "123.345\n"
     ]
    }
   ],
   "source": [
    "# converting other type of data into float\n",
    "\n",
    "# int to float\n",
    "a = 10\n",
    "print(float(10))\n",
    "\n",
    "# bool to float\n",
    "a = True\n",
    "print(float(a))\n",
    "\n",
    "# string to float\n",
    "a = '123'\n",
    "print(float(a))\n",
    "\n",
    "a = '123.345'\n",
    "print(float(a))"
   ]
  },
  {
   "cell_type": "code",
   "execution_count": 85,
   "metadata": {},
   "outputs": [
    {
     "name": "stdout",
     "output_type": "stream",
     "text": [
      "(10+0j)\n",
      "0j\n",
      "(123+0j)\n"
     ]
    }
   ],
   "source": [
    "# converting other data types to complex\n",
    "\n",
    "# int to complex\n",
    "\n",
    "a = 10\n",
    "print(complex(a))\n",
    "\n",
    "a = 0\n",
    "print(complex(a))\n",
    "\n",
    "a = '123'\n",
    "print(complex(a))"
   ]
  },
  {
   "cell_type": "code",
   "execution_count": 93,
   "metadata": {},
   "outputs": [
    {
     "name": "stdout",
     "output_type": "stream",
     "text": [
      "True\n",
      "True\n",
      "False\n",
      "True\n",
      "False\n",
      "True\n",
      "True\n",
      "True\n",
      "False\n"
     ]
    }
   ],
   "source": [
    "# converting other data into boolena type\n",
    "\n",
    "# int to bool\n",
    "a = 1\n",
    "print(bool(a))\n",
    "\n",
    "a = 100\n",
    "print(bool(a))\n",
    "\n",
    "a = 0\n",
    "print(bool(a))\n",
    "\n",
    "a = 10 + 0j\n",
    "print(bool(a))\n",
    "\n",
    "a = 0 + 0j\n",
    "print(bool(a))\n",
    "\n",
    "a = 'True'\n",
    "print(bool(a))\n",
    "\n",
    "a = '1'\n",
    "print(bool(a))\n",
    "\n",
    "a = '0'\n",
    "print(bool(a))\n",
    "\n",
    "a = ''\n",
    "print(bool(a))"
   ]
  },
  {
   "cell_type": "code",
   "execution_count": 96,
   "metadata": {},
   "outputs": [
    {
     "name": "stdout",
     "output_type": "stream",
     "text": [
      "10\n",
      "<class 'int'>\n",
      "0.98\n",
      "<class 'float'>\n",
      "(10+20j)\n",
      "<class 'complex'>\n",
      "True\n",
      "<class 'bool'>\n"
     ]
    }
   ],
   "source": [
    "# converting other data to string\n",
    "\n",
    "a = 10\n",
    "print(str(a))\n",
    "print(type(a))\n",
    "\n",
    "a = 0.98\n",
    "print(str(a))\n",
    "print(type(a))\n",
    "\n",
    "a = 10 + 20j\n",
    "print(str(a))\n",
    "print(type(a))\n",
    "\n",
    "a = True\n",
    "print(str(a))\n",
    "print(type(a))"
   ]
  },
  {
   "cell_type": "code",
   "execution_count": null,
   "metadata": {},
   "outputs": [],
   "source": []
  }
 ],
 "metadata": {
  "kernelspec": {
   "display_name": "Python 3",
   "language": "python",
   "name": "python3"
  },
  "language_info": {
   "codemirror_mode": {
    "name": "ipython",
    "version": 3
   },
   "file_extension": ".py",
   "mimetype": "text/x-python",
   "name": "python",
   "nbconvert_exporter": "python",
   "pygments_lexer": "ipython3",
   "version": "3.7.4"
  }
 },
 "nbformat": 4,
 "nbformat_minor": 2
}
